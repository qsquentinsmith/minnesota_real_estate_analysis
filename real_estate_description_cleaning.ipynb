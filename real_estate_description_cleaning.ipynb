{
  "nbformat": 4,
  "nbformat_minor": 0,
  "metadata": {
    "colab": {
      "name": "real_estate_description_cleaning.ipynb",
      "provenance": [],
      "collapsed_sections": [],
      "include_colab_link": true
    },
    "kernelspec": {
      "name": "python3",
      "display_name": "Python 3"
    },
    "language_info": {
      "name": "python"
    }
  },
  "cells": [
    {
      "cell_type": "markdown",
      "metadata": {
        "id": "view-in-github",
        "colab_type": "text"
      },
      "source": [
        "<a href=\"https://colab.research.google.com/github/qsquentinsmith/minnesota_real_estate_analysis/blob/main/real_estate_description_cleaning.ipynb\" target=\"_parent\"><img src=\"https://colab.research.google.com/assets/colab-badge.svg\" alt=\"Open In Colab\"/></a>"
      ]
    },
    {
      "cell_type": "code",
      "metadata": {
        "id": "BwvD_k-6S_74"
      },
      "source": [
        "# Import libraries\n",
        "import pandas as pd\n",
        "import numpy as np\n",
        "import matplotlib.pyplot as plt\n",
        "import seaborn as sns\n",
        "import warnings\n",
        "\n",
        "import matplotlib.pyplot as plt\n",
        "%matplotlib inline\n",
        "\n",
        "from keras.applications.vgg16 import VGG16\n",
        "from keras.preprocessing import image\n",
        "from keras.applications.vgg16 import preprocess_input\n",
        "\n",
        "warnings.filterwarnings(\"ignore\", category=FutureWarning)"
      ],
      "execution_count": null,
      "outputs": []
    },
    {
      "cell_type": "markdown",
      "metadata": {
        "id": "ALYjvEfDCM_1"
      },
      "source": [
        "## Get Seller Description Data from Real Estate Website for Sentiment Analysis"
      ]
    },
    {
      "cell_type": "code",
      "metadata": {
        "id": "IvgiKMIfTWVM"
      },
      "source": [
        "# Call data back to read csv\n",
        "# Resources: https://github.com/JacobSampson/mls_scraper. Forked repo to https://github.com/qsquentinsmith/mls_scraper to add more features\n",
        "df_properties = pd.read_csv('https://raw.githubusercontent.com/qsquentinsmith/mls_scraper/main/output/properties.csv')"
      ],
      "execution_count": null,
      "outputs": []
    },
    {
      "cell_type": "code",
      "metadata": {
        "id": "ohCykO5QTWX9"
      },
      "source": [
        "# copy data frame for description analysis\n",
        "df_properties_description = df_properties.copy()\n",
        "df_properties_description = df_properties_description[['pid', 'description']]"
      ],
      "execution_count": null,
      "outputs": []
    },
    {
      "cell_type": "code",
      "metadata": {
        "id": "FXYc4uapTWab"
      },
      "source": [
        "# no truncation\n",
        "pd.set_option('display.max_colwidth', None)"
      ],
      "execution_count": null,
      "outputs": []
    },
    {
      "cell_type": "code",
      "metadata": {
        "colab": {
          "base_uri": "https://localhost:8080/",
          "height": 296
        },
        "id": "RSRsFlPckW0N",
        "outputId": "5a2edc4f-1b52-47a7-a95c-75236f2aa1b7"
      },
      "source": [
        "df_properties_description.head(5)"
      ],
      "execution_count": null,
      "outputs": [
        {
          "output_type": "execute_result",
          "data": {
            "text/html": [
              "<div>\n",
              "<style scoped>\n",
              "    .dataframe tbody tr th:only-of-type {\n",
              "        vertical-align: middle;\n",
              "    }\n",
              "\n",
              "    .dataframe tbody tr th {\n",
              "        vertical-align: top;\n",
              "    }\n",
              "\n",
              "    .dataframe thead th {\n",
              "        text-align: right;\n",
              "    }\n",
              "</style>\n",
              "<table border=\"1\" class=\"dataframe\">\n",
              "  <thead>\n",
              "    <tr style=\"text-align: right;\">\n",
              "      <th></th>\n",
              "      <th>pid</th>\n",
              "      <th>description</th>\n",
              "    </tr>\n",
              "  </thead>\n",
              "  <tbody>\n",
              "    <tr>\n",
              "      <th>0</th>\n",
              "      <td>pid</td>\n",
              "      <td>NaN</td>\n",
              "    </tr>\n",
              "    <tr>\n",
              "      <th>1</th>\n",
              "      <td>5708235</td>\n",
              "      <td>Description: Simplygrandresidence-unforgettablesetting-spectacularviewsallaround!Spaciousandopenmain-floorlivingshowcasesrichfinishes:finearchitecturaldetailsandbeautifulupdates.LuxuriousOwner'squarterswithspabath:hugewalk-inclosetandadjoiningoffice(ornursery!)Formallivinganddiningroomsopento2-storygreatroom:oversizedgourmetkitchenandfabuloussunroomwithtreetopviews!Walkouttoextensivemultileveldeckswithcustompergolasurroundedintotalprivacy!Accessupperlevelfromgrandcurvedstaircaseorsecondstairwellto3bedrooms:2baths:loft-opentothemainlevel.Lowerlevelfeaturesexecutive-styleoffice:hugefamily/amusementandgamerooms:exerciseroom:5thbedroom:bathandstorageroom!Walkouttodeck:paveredpatioandyardoverlookingthepondandwoodswithbeautifullandscapingandnatureallaround!Trulyasanctuarysetting-.83acreatquietendofculdesac:CharlesCuddbuilt.Pleaseseesupplement.</td>\n",
              "    </tr>\n",
              "    <tr>\n",
              "      <th>2</th>\n",
              "      <td>5618755</td>\n",
              "      <td>Description: Youwillfallinlovewiththisstunninglygorgeoushomeandallofitsmanyfeatures!Beautifulsparklingpool:multiplefireplaces:stainlesssteelappliances:hugemaintenancefreedeck:patio:gorgeouswoodfloors:basementwithheatedfloors:andameticulouslykeptgaragewithabeautifulapartmentaboveit.Apartmenthasaseparateentrance:heatedfloors:steamshower:separatefurnaceandAC:maintenancefreedeck:fireplace:lotsofnaturallight:andstainlesssteelappliances.Thishomehasitall:youwillnotbedisappointed!</td>\n",
              "    </tr>\n",
              "    <tr>\n",
              "      <th>3</th>\n",
              "      <td>5501312</td>\n",
              "      <td>Description: Builtforfamily:friendsandgraciouseaseofliving.Highlightsofthe6000finsqfthomeincludesachef'skitchen:5bedrooms:hobbyroom:billiardsroom:saunaandprivateoffice.</td>\n",
              "    </tr>\n",
              "    <tr>\n",
              "      <th>4</th>\n",
              "      <td>Themainfloormasterismoreofasanctuarythanabedroomwithagasfireplace.Thehugewalk-inshowerandsoakingtubareahavenofcomfortandrelaxation.Theoutdoorsincludesabelowgroundswimmingpool:ahottubandanoutdoorkitchenareawithpatio.Awelldesignedstudioin-lawsuitewithakitchen:privatebath:laundryroomandseparateentrance.Outbuildingsincludeafitnesscenterwithadancestudioandrockclimbingwall.Bringyourhorses..horsereadyfacilities.</td>\n",
              "      <td>NaN</td>\n",
              "    </tr>\n",
              "  </tbody>\n",
              "</table>\n",
              "</div>"
            ],
            "text/plain": [
              "                                                                                                                                                                                                                                                                                                                                                                                                                        pid                                                                                                                                                                                                                                                                                                                                                                                                                                                                                                                                                                                                                                                                                                                                                                                                                                                                        description\n",
              "0                                                                                                                                                                                                                                                                                                                                                                                                                       pid                                                                                                                                                                                                                                                                                                                                                                                                                                                                                                                                                                                                                                                                                                                                                                                                                                                                                NaN\n",
              "1                                                                                                                                                                                                                                                                                                                                                                                                                   5708235  Description: Simplygrandresidence-unforgettablesetting-spectacularviewsallaround!Spaciousandopenmain-floorlivingshowcasesrichfinishes:finearchitecturaldetailsandbeautifulupdates.LuxuriousOwner'squarterswithspabath:hugewalk-inclosetandadjoiningoffice(ornursery!)Formallivinganddiningroomsopento2-storygreatroom:oversizedgourmetkitchenandfabuloussunroomwithtreetopviews!Walkouttoextensivemultileveldeckswithcustompergolasurroundedintotalprivacy!Accessupperlevelfromgrandcurvedstaircaseorsecondstairwellto3bedrooms:2baths:loft-opentothemainlevel.Lowerlevelfeaturesexecutive-styleoffice:hugefamily/amusementandgamerooms:exerciseroom:5thbedroom:bathandstorageroom!Walkouttodeck:paveredpatioandyardoverlookingthepondandwoodswithbeautifullandscapingandnatureallaround!Trulyasanctuarysetting-.83acreatquietendofculdesac:CharlesCuddbuilt.Pleaseseesupplement.\n",
              "2                                                                                                                                                                                                                                                                                                                                                                                                                   5618755                                                                                                                                                                                                                                                                                                                                                                                      Description: Youwillfallinlovewiththisstunninglygorgeoushomeandallofitsmanyfeatures!Beautifulsparklingpool:multiplefireplaces:stainlesssteelappliances:hugemaintenancefreedeck:patio:gorgeouswoodfloors:basementwithheatedfloors:andameticulouslykeptgaragewithabeautifulapartmentaboveit.Apartmenthasaseparateentrance:heatedfloors:steamshower:separatefurnaceandAC:maintenancefreedeck:fireplace:lotsofnaturallight:andstainlesssteelappliances.Thishomehasitall:youwillnotbedisappointed!\n",
              "3                                                                                                                                                                                                                                                                                                                                                                                                                   5501312                                                                                                                                                                                                                                                                                                                                                                                                                                                                                                                                                                                                                                                                                                           Description: Builtforfamily:friendsandgraciouseaseofliving.Highlightsofthe6000finsqfthomeincludesachef'skitchen:5bedrooms:hobbyroom:billiardsroom:saunaandprivateoffice.\n",
              "4  Themainfloormasterismoreofasanctuarythanabedroomwithagasfireplace.Thehugewalk-inshowerandsoakingtubareahavenofcomfortandrelaxation.Theoutdoorsincludesabelowgroundswimmingpool:ahottubandanoutdoorkitchenareawithpatio.Awelldesignedstudioin-lawsuitewithakitchen:privatebath:laundryroomandseparateentrance.Outbuildingsincludeafitnesscenterwithadancestudioandrockclimbingwall.Bringyourhorses..horsereadyfacilities.                                                                                                                                                                                                                                                                                                                                                                                                                                                                                                                                                                                                                                                                                                                                                                                                                                                                                NaN"
            ]
          },
          "metadata": {
            "tags": []
          },
          "execution_count": 6
        }
      ]
    },
    {
      "cell_type": "code",
      "metadata": {
        "id": "b_nLNOn_Ut9i"
      },
      "source": [
        "# Delete first row\n",
        "df_properties_description = df_properties_description.iloc[1:]"
      ],
      "execution_count": null,
      "outputs": []
    },
    {
      "cell_type": "code",
      "metadata": {
        "colab": {
          "base_uri": "https://localhost:8080/"
        },
        "id": "DZNBR4uYsryH",
        "outputId": "99277c14-1cdb-46a3-cdfc-240ee4d1adb7"
      },
      "source": [
        "# Check data types\n",
        "df_properties_description.info()"
      ],
      "execution_count": null,
      "outputs": [
        {
          "output_type": "stream",
          "text": [
            "<class 'pandas.core.frame.DataFrame'>\n",
            "RangeIndex: 138867 entries, 1 to 138867\n",
            "Data columns (total 2 columns):\n",
            " #   Column       Non-Null Count   Dtype \n",
            "---  ------       --------------   ----- \n",
            " 0   pid          138867 non-null  object\n",
            " 1   description  100509 non-null  object\n",
            "dtypes: object(2)\n",
            "memory usage: 2.1+ MB\n"
          ],
          "name": "stdout"
        }
      ]
    },
    {
      "cell_type": "code",
      "metadata": {
        "id": "vHSldWDXtQQy"
      },
      "source": [
        "# Change description type to string for cleaning\n",
        "df_properties_description = df_properties_description.astype('str')"
      ],
      "execution_count": null,
      "outputs": []
    },
    {
      "cell_type": "code",
      "metadata": {
        "id": "o9Rq-DnAkaQa"
      },
      "source": [
        "# Create additional column for length of pid\n",
        "df_properties_description['pid_length'] = df_properties_description['pid'].apply(len) "
      ],
      "execution_count": null,
      "outputs": []
    },
    {
      "cell_type": "code",
      "metadata": {
        "id": "StklRhCqwmQq",
        "colab": {
          "base_uri": "https://localhost:8080/",
          "height": 296
        },
        "outputId": "b03bdaed-9cd2-46a9-9cbd-f56446cbb7ec"
      },
      "source": [
        "df_properties_description.head(5)"
      ],
      "execution_count": null,
      "outputs": [
        {
          "output_type": "execute_result",
          "data": {
            "text/html": [
              "<div>\n",
              "<style scoped>\n",
              "    .dataframe tbody tr th:only-of-type {\n",
              "        vertical-align: middle;\n",
              "    }\n",
              "\n",
              "    .dataframe tbody tr th {\n",
              "        vertical-align: top;\n",
              "    }\n",
              "\n",
              "    .dataframe thead th {\n",
              "        text-align: right;\n",
              "    }\n",
              "</style>\n",
              "<table border=\"1\" class=\"dataframe\">\n",
              "  <thead>\n",
              "    <tr style=\"text-align: right;\">\n",
              "      <th></th>\n",
              "      <th>pid</th>\n",
              "      <th>description</th>\n",
              "      <th>pid_length</th>\n",
              "    </tr>\n",
              "  </thead>\n",
              "  <tbody>\n",
              "    <tr>\n",
              "      <th>1</th>\n",
              "      <td>5708235</td>\n",
              "      <td>Description: Simplygrandresidence-unforgettablesetting-spectacularviewsallaround!Spaciousandopenmain-floorlivingshowcasesrichfinishes:finearchitecturaldetailsandbeautifulupdates.LuxuriousOwner'squarterswithspabath:hugewalk-inclosetandadjoiningoffice(ornursery!)Formallivinganddiningroomsopento2-storygreatroom:oversizedgourmetkitchenandfabuloussunroomwithtreetopviews!Walkouttoextensivemultileveldeckswithcustompergolasurroundedintotalprivacy!Accessupperlevelfromgrandcurvedstaircaseorsecondstairwellto3bedrooms:2baths:loft-opentothemainlevel.Lowerlevelfeaturesexecutive-styleoffice:hugefamily/amusementandgamerooms:exerciseroom:5thbedroom:bathandstorageroom!Walkouttodeck:paveredpatioandyardoverlookingthepondandwoodswithbeautifullandscapingandnatureallaround!Trulyasanctuarysetting-.83acreatquietendofculdesac:CharlesCuddbuilt.Pleaseseesupplement.</td>\n",
              "      <td>7</td>\n",
              "    </tr>\n",
              "    <tr>\n",
              "      <th>2</th>\n",
              "      <td>5618755</td>\n",
              "      <td>Description: Youwillfallinlovewiththisstunninglygorgeoushomeandallofitsmanyfeatures!Beautifulsparklingpool:multiplefireplaces:stainlesssteelappliances:hugemaintenancefreedeck:patio:gorgeouswoodfloors:basementwithheatedfloors:andameticulouslykeptgaragewithabeautifulapartmentaboveit.Apartmenthasaseparateentrance:heatedfloors:steamshower:separatefurnaceandAC:maintenancefreedeck:fireplace:lotsofnaturallight:andstainlesssteelappliances.Thishomehasitall:youwillnotbedisappointed!</td>\n",
              "      <td>7</td>\n",
              "    </tr>\n",
              "    <tr>\n",
              "      <th>3</th>\n",
              "      <td>5501312</td>\n",
              "      <td>Description: Builtforfamily:friendsandgraciouseaseofliving.Highlightsofthe6000finsqfthomeincludesachef'skitchen:5bedrooms:hobbyroom:billiardsroom:saunaandprivateoffice.</td>\n",
              "      <td>7</td>\n",
              "    </tr>\n",
              "    <tr>\n",
              "      <th>4</th>\n",
              "      <td>Themainfloormasterismoreofasanctuarythanabedroomwithagasfireplace.Thehugewalk-inshowerandsoakingtubareahavenofcomfortandrelaxation.Theoutdoorsincludesabelowgroundswimmingpool:ahottubandanoutdoorkitchenareawithpatio.Awelldesignedstudioin-lawsuitewithakitchen:privatebath:laundryroomandseparateentrance.Outbuildingsincludeafitnesscenterwithadancestudioandrockclimbingwall.Bringyourhorses..horsereadyfacilities.</td>\n",
              "      <td>nan</td>\n",
              "      <td>408</td>\n",
              "    </tr>\n",
              "    <tr>\n",
              "      <th>5</th>\n",
              "      <td>5628081</td>\n",
              "      <td>Description: AmazingVictorianinspiredhomelocatedinBlaineon11.11acres;homehasplentyofroomforentertaining.Theindoorpool(3ftto8ftdeep)withhottubandsaunaandoutdoorlivingareaswillbringyearsofenjoymenttoafamilyandtheirfriends.Allfivebedroomsarelocatedupstairsonthe</td>\n",
              "      <td>7</td>\n",
              "    </tr>\n",
              "  </tbody>\n",
              "</table>\n",
              "</div>"
            ],
            "text/plain": [
              "                                                                                                                                                                                                                                                                                                                                                                                                                        pid  ... pid_length\n",
              "1                                                                                                                                                                                                                                                                                                                                                                                                                   5708235  ...          7\n",
              "2                                                                                                                                                                                                                                                                                                                                                                                                                   5618755  ...          7\n",
              "3                                                                                                                                                                                                                                                                                                                                                                                                                   5501312  ...          7\n",
              "4  Themainfloormasterismoreofasanctuarythanabedroomwithagasfireplace.Thehugewalk-inshowerandsoakingtubareahavenofcomfortandrelaxation.Theoutdoorsincludesabelowgroundswimmingpool:ahottubandanoutdoorkitchenareawithpatio.Awelldesignedstudioin-lawsuitewithakitchen:privatebath:laundryroomandseparateentrance.Outbuildingsincludeafitnesscenterwithadancestudioandrockclimbingwall.Bringyourhorses..horsereadyfacilities.  ...        408\n",
              "5                                                                                                                                                                                                                                                                                                                                                                                                                   5628081  ...          7\n",
              "\n",
              "[5 rows x 3 columns]"
            ]
          },
          "metadata": {
            "tags": []
          },
          "execution_count": 42
        }
      ]
    },
    {
      "cell_type": "code",
      "metadata": {
        "id": "QilyILl3RG8a"
      },
      "source": [
        "# Main cleaning for loop. Loop through backwards. This moves the descriptions that got cut off into the pid column back into the description data in the previous row\n",
        "for i in range(len(df_properties_description)-1, 0, -1):\n",
        "  if df_properties_description.iloc[i, 2] != 7:\n",
        "    if df_properties_description.iloc[i-1, 2] != 7:\n",
        "      df_properties_description.iloc[i-1, 0] = df_properties_description.iloc[i-1, 0] + df_properties_description.iloc[i, 0]\n",
        "    else: \n",
        "      df_properties_description.iloc[i-1, 1] = df_properties_description.iloc[i-1, 1] + df_properties_description.iloc[i, 0] #where split once"
      ],
      "execution_count": null,
      "outputs": []
    },
    {
      "cell_type": "code",
      "metadata": {
        "id": "QYair06wTICZ"
      },
      "source": [
        "# Since we copied the pid data into the description column. We can now delete any data in pid that is larger than 7 which is the default pid size\n",
        "df_properties_description = df_properties_description[df_properties_description['pid_length'] == 7]"
      ],
      "execution_count": null,
      "outputs": []
    },
    {
      "cell_type": "code",
      "metadata": {
        "id": "Gxh-TLxWAQoM"
      },
      "source": [
        "# Also we can get rid of any nan\n",
        "df_properties_description = df_properties_description[df_properties_description['description'] != 'nan']"
      ],
      "execution_count": null,
      "outputs": []
    },
    {
      "cell_type": "code",
      "metadata": {
        "id": "yOeJ-d9jcgw5",
        "colab": {
          "base_uri": "https://localhost:8080/"
        },
        "outputId": "01a7fe4e-171a-49bb-b09c-6058c2b07894"
      },
      "source": [
        "# This library puts in spaces\n",
        "!pip3 install wordninja"
      ],
      "execution_count": null,
      "outputs": [
        {
          "output_type": "stream",
          "text": [
            "Requirement already satisfied: wordninja in /usr/local/lib/python3.7/dist-packages (2.0.0)\n"
          ],
          "name": "stdout"
        }
      ]
    },
    {
      "cell_type": "code",
      "metadata": {
        "id": "oROlOfkoCfK_"
      },
      "source": [
        "import wordninja\n",
        "\n",
        "description = wordninja.split(df_properties_description.iloc[0, 1])"
      ],
      "execution_count": null,
      "outputs": []
    },
    {
      "cell_type": "code",
      "metadata": {
        "colab": {
          "base_uri": "https://localhost:8080/"
        },
        "id": "8hTrBlIcCsp8",
        "outputId": "34dc4b89-0c8b-4844-f483-a78adcf27454"
      },
      "source": [
        "print(description)"
      ],
      "execution_count": null,
      "outputs": [
        {
          "output_type": "stream",
          "text": [
            "['Description', 'Simply', 'grand', 'residence', 'unforgettable', 'setting', 'spectacular', 'views', 'all', 'around', 'Spacious', 'and', 'open', 'main', 'floor', 'living', 'showcases', 'rich', 'finishes', 'fine', 'architectural', 'details', 'and', 'beautiful', 'updates', 'Luxurious', \"Owner's\", 'quarters', 'with', 'spa', 'bath', 'huge', 'walk', 'in', 'closet', 'and', 'adjoining', 'office', 'or', 'nursery', 'Formal', 'living', 'and', 'dining', 'rooms', 'open', 'to', '2', 'story', 'great', 'room', 'oversized', 'gourmet', 'kitchen', 'and', 'fabulous', 'sunroom', 'with', 'treetop', 'views', 'Walkout', 'to', 'extensive', 'multi', 'level', 'decks', 'with', 'custom', 'pergola', 'surrounded', 'in', 'total', 'privacy', 'Access', 'upper', 'level', 'from', 'grand', 'curved', 'staircase', 'or', 'second', 'stairwell', 'to', '3', 'bedrooms', '2', 'baths', 'loft', 'open', 'to', 'the', 'main', 'level', 'Lower', 'level', 'features', 'executive', 'style', 'office', 'huge', 'family', 'amusement', 'and', 'game', 'rooms', 'exercise', 'room', '5', 'th', 'bedroom', 'bath', 'and', 'storage', 'room', 'Walkout', 'to', 'deck', 'pave', 'red', 'patio', 'and', 'yard', 'overlooking', 'the', 'pond', 'and', 'woods', 'with', 'beautiful', 'landscaping', 'and', 'nature', 'all', 'around', 'Truly', 'a', 'sanctuary', 'setting', '83', 'acre', 'at', 'quiet', 'end', 'of', 'cul', 'de', 'sac', 'Charles', 'Cud', 'd', 'built', 'Please', 'see', 'supplement']\n"
          ],
          "name": "stdout"
        }
      ]
    },
    {
      "cell_type": "code",
      "metadata": {
        "id": "LPPWrmA4Eqnj"
      },
      "source": [
        "# Function to convert the list of words back into a sentence with spaces\n",
        "def listToString(s): \n",
        "\n",
        "    str1 = \"\" \n",
        "\n",
        "    for ele in s: \n",
        "        str1 += ele + \" \"  \n",
        " \n",
        "    return str1 "
      ],
      "execution_count": null,
      "outputs": []
    },
    {
      "cell_type": "code",
      "metadata": {
        "id": "f0h66zrlHmB5"
      },
      "source": [
        "list_description_clean = []"
      ],
      "execution_count": null,
      "outputs": []
    },
    {
      "cell_type": "code",
      "metadata": {
        "id": "jpIJZTPvEvmO"
      },
      "source": [
        "# Puts the cleaned data into a list\n",
        "for i in range(0, len(df_properties_description)):\n",
        "  list_description_clean.append(listToString(wordninja.split(df_properties_description.iloc[i, 1])))\n",
        "  "
      ],
      "execution_count": null,
      "outputs": []
    },
    {
      "cell_type": "code",
      "metadata": {
        "colab": {
          "base_uri": "https://localhost:8080/"
        },
        "id": "KbUShlnhFahK",
        "outputId": "4a186d12-31f2-4aa9-da2f-fd64d8b36140"
      },
      "source": [
        "print(df_properties_description.shape)\n",
        "print(len(list_description_clean))"
      ],
      "execution_count": null,
      "outputs": [
        {
          "output_type": "stream",
          "text": [
            "(100530, 3)\n",
            "100530\n"
          ],
          "name": "stdout"
        }
      ]
    },
    {
      "cell_type": "code",
      "metadata": {
        "id": "RZilv2QoGMWj"
      },
      "source": [
        "# Creates new column and copies the list into it\n",
        "df_properties_description['description_clean'] = list_description_clean"
      ],
      "execution_count": null,
      "outputs": []
    },
    {
      "cell_type": "code",
      "metadata": {
        "id": "I9P_u8y-Nv6Y"
      },
      "source": [
        "# Since we have a cleaned description column we no longer need description\n",
        "del df_properties_description['description']"
      ],
      "execution_count": null,
      "outputs": []
    },
    {
      "cell_type": "code",
      "metadata": {
        "colab": {
          "base_uri": "https://localhost:8080/",
          "height": 432
        },
        "id": "ZxxwzxuNOrAa",
        "outputId": "aaabe013-e0e3-47f5-b3cf-faf85b12a76c"
      },
      "source": [
        "df_properties_description.head(5)"
      ],
      "execution_count": null,
      "outputs": [
        {
          "output_type": "execute_result",
          "data": {
            "text/html": [
              "<div>\n",
              "<style scoped>\n",
              "    .dataframe tbody tr th:only-of-type {\n",
              "        vertical-align: middle;\n",
              "    }\n",
              "\n",
              "    .dataframe tbody tr th {\n",
              "        vertical-align: top;\n",
              "    }\n",
              "\n",
              "    .dataframe thead th {\n",
              "        text-align: right;\n",
              "    }\n",
              "</style>\n",
              "<table border=\"1\" class=\"dataframe\">\n",
              "  <thead>\n",
              "    <tr style=\"text-align: right;\">\n",
              "      <th></th>\n",
              "      <th>pid</th>\n",
              "      <th>pid_length</th>\n",
              "      <th>description_clean</th>\n",
              "    </tr>\n",
              "  </thead>\n",
              "  <tbody>\n",
              "    <tr>\n",
              "      <th>1</th>\n",
              "      <td>5708235</td>\n",
              "      <td>7</td>\n",
              "      <td>Description Simply grand residence unforgettable setting spectacular views all around Spacious and open main floor living showcases rich finishes fine architectural details and beautiful updates Luxurious Owner's quarters with spa bath huge walk in closet and adjoining office or nursery Formal living and dining rooms open to 2 story great room oversized gourmet kitchen and fabulous sunroom with treetop views Walkout to extensive multi level decks with custom pergola surrounded in total privacy Access upper level from grand curved staircase or second stairwell to 3 bedrooms 2 baths loft open to the main level Lower level features executive style office huge family amusement and game rooms exercise room 5 th bedroom bath and storage room Walkout to deck pave red patio and yard overlooking the pond and woods with beautiful landscaping and nature all around Truly a sanctuary setting 83 acre at quiet end of cul de sac Charles Cud d built Please see supplement</td>\n",
              "    </tr>\n",
              "    <tr>\n",
              "      <th>2</th>\n",
              "      <td>5618755</td>\n",
              "      <td>7</td>\n",
              "      <td>Description You will fallin love with this stunningly gorgeous home and all of its many features Beautiful sparkling pool multiple fireplaces stainless steel appliances huge maintenance free deck patio gorgeous wood floors basement with heated floors and a meticulously kept garage with a beautiful apartment above it Apartment has a separate entrance heated floors steam shower separate furnace and AC maintenance free deck fireplace lots of natural light and stainless steel appliances This home has it all you will not be disappointed</td>\n",
              "    </tr>\n",
              "    <tr>\n",
              "      <th>3</th>\n",
              "      <td>5501312</td>\n",
              "      <td>7</td>\n",
              "      <td>Description Built for family friends and gracious ease of living Highlights of the 6000 fins q ft home includes a chef's kitchen 5 bedrooms hobby room billiards room sauna and private office The main floor master is more of a sanctuary than a bedroom with a gas fireplace The huge walk in shower and soaking tub area haven of comfort and relaxation The outdoors includes a below ground swimming pool a hot tub and an outdoor kitchen area with patio A well designed studio in law suite with a kitchen private bath laundry room and separate entrance Outbuildings include a fitness center with a dance studio and rock climbing wall Bring your horses horse ready facilities</td>\n",
              "    </tr>\n",
              "    <tr>\n",
              "      <th>5</th>\n",
              "      <td>5628081</td>\n",
              "      <td>7</td>\n",
              "      <td>Description Amazing Victorian inspired home located in Blaine on 11 11 acres home has plenty of room for entertaining The indoor pool 3 ft to 8 ft deep with hot tub and sauna and outdoor living areas will bring years of enjoyment to a family and their friends All five bedrooms are located upstairs on the same level Upper floor has 9 ft ceilings Main level includes gourmet kitchen with custom antique white cabinets Wolf range and sub zero refrigerator This is a must see property Nature seekers outdoor seekers or seeking privacy this maybe your perfect property that awaits you</td>\n",
              "    </tr>\n",
              "    <tr>\n",
              "      <th>9</th>\n",
              "      <td>5502025</td>\n",
              "      <td>7</td>\n",
              "      <td>Description Rustic with a modern flare Welcome home to the Reggie Award winning Brooke model by One Ten Ten Homes We strive for functionality and this home has it all Gourmet kitchen with a 9 foot island a wrapped kitchen with 52 inch cabinets a farmhouse sink Beams barn doors and so much more This home has a junior suite jack and jill bath and a master bath you could only dream of Come today you won't regret it</td>\n",
              "    </tr>\n",
              "  </tbody>\n",
              "</table>\n",
              "</div>"
            ],
            "text/plain": [
              "       pid  ...                                                                                                                                                                                                                                                                                                                                                                                                                                                                                                                                                                                                                                                                                                                                                                                                                                                                                                                                                                                          description_clean\n",
              "1  5708235  ...  Description Simply grand residence unforgettable setting spectacular views all around Spacious and open main floor living showcases rich finishes fine architectural details and beautiful updates Luxurious Owner's quarters with spa bath huge walk in closet and adjoining office or nursery Formal living and dining rooms open to 2 story great room oversized gourmet kitchen and fabulous sunroom with treetop views Walkout to extensive multi level decks with custom pergola surrounded in total privacy Access upper level from grand curved staircase or second stairwell to 3 bedrooms 2 baths loft open to the main level Lower level features executive style office huge family amusement and game rooms exercise room 5 th bedroom bath and storage room Walkout to deck pave red patio and yard overlooking the pond and woods with beautiful landscaping and nature all around Truly a sanctuary setting 83 acre at quiet end of cul de sac Charles Cud d built Please see supplement \n",
              "2  5618755  ...                                                                                                                                                                                                                                                                                                                                                                                                                                                 Description You will fallin love with this stunningly gorgeous home and all of its many features Beautiful sparkling pool multiple fireplaces stainless steel appliances huge maintenance free deck patio gorgeous wood floors basement with heated floors and a meticulously kept garage with a beautiful apartment above it Apartment has a separate entrance heated floors steam shower separate furnace and AC maintenance free deck fireplace lots of natural light and stainless steel appliances This home has it all you will not be disappointed \n",
              "3  5501312  ...                                                                                                                                                                                                                                                                                                             Description Built for family friends and gracious ease of living Highlights of the 6000 fins q ft home includes a chef's kitchen 5 bedrooms hobby room billiards room sauna and private office The main floor master is more of a sanctuary than a bedroom with a gas fireplace The huge walk in shower and soaking tub area haven of comfort and relaxation The outdoors includes a below ground swimming pool a hot tub and an outdoor kitchen area with patio A well designed studio in law suite with a kitchen private bath laundry room and separate entrance Outbuildings include a fitness center with a dance studio and rock climbing wall Bring your horses horse ready facilities \n",
              "5  5628081  ...                                                                                                                                                                                                                                                                                                                                                                                                     Description Amazing Victorian inspired home located in Blaine on 11 11 acres home has plenty of room for entertaining The indoor pool 3 ft to 8 ft deep with hot tub and sauna and outdoor living areas will bring years of enjoyment to a family and their friends All five bedrooms are located upstairs on the same level Upper floor has 9 ft ceilings Main level includes gourmet kitchen with custom antique white cabinets Wolf range and sub zero refrigerator This is a must see property Nature seekers outdoor seekers or seeking privacy this maybe your perfect property that awaits you \n",
              "9  5502025  ...                                                                                                                                                                                                                                                                                                                                                                                                                                                                                                                                                                           Description Rustic with a modern flare Welcome home to the Reggie Award winning Brooke model by One Ten Ten Homes We strive for functionality and this home has it all Gourmet kitchen with a 9 foot island a wrapped kitchen with 52 inch cabinets a farmhouse sink Beams barn doors and so much more This home has a junior suite jack and jill bath and a master bath you could only dream of Come today you won't regret it \n",
              "\n",
              "[5 rows x 3 columns]"
            ]
          },
          "metadata": {
            "tags": []
          },
          "execution_count": 57
        }
      ]
    },
    {
      "cell_type": "code",
      "metadata": {
        "colab": {
          "base_uri": "https://localhost:8080/"
        },
        "id": "zwZL_rzxO6c1",
        "outputId": "b43b21f3-675f-4832-fc63-2056185b9372"
      },
      "source": [
        "df_properties_description.dtypes"
      ],
      "execution_count": null,
      "outputs": [
        {
          "output_type": "execute_result",
          "data": {
            "text/plain": [
              "pid                  object\n",
              "pid_length            int64\n",
              "description_clean    object\n",
              "dtype: object"
            ]
          },
          "metadata": {
            "tags": []
          },
          "execution_count": 86
        }
      ]
    },
    {
      "cell_type": "code",
      "metadata": {
        "id": "jskG9ghrTpT5"
      },
      "source": [
        "# copy data frame to change type\n",
        "df = df_properties_description.copy()\n",
        "df = df[['pid', 'description_clean']]"
      ],
      "execution_count": null,
      "outputs": []
    },
    {
      "cell_type": "code",
      "metadata": {
        "colab": {
          "base_uri": "https://localhost:8080/"
        },
        "id": "7YjvFBwPUqUJ",
        "outputId": "1883c89f-54a7-4ad0-9a93-aefd596aac55"
      },
      "source": [
        "df.dtypes"
      ],
      "execution_count": null,
      "outputs": [
        {
          "output_type": "execute_result",
          "data": {
            "text/plain": [
              "pid                  object\n",
              "description_clean    object\n",
              "dtype: object"
            ]
          },
          "metadata": {
            "tags": []
          },
          "execution_count": 87
        }
      ]
    },
    {
      "cell_type": "code",
      "metadata": {
        "id": "BfT5zZUhTpha"
      },
      "source": [
        "# Go through pid list and only keep numeric string values\n",
        "for i in df.index.values:\n",
        "  if not df['pid'][i].isnumeric():\n",
        "    df = df.drop(i)"
      ],
      "execution_count": null,
      "outputs": []
    },
    {
      "cell_type": "code",
      "metadata": {
        "id": "8cmvjqcfWDJn"
      },
      "source": [
        "# Since they are all numeric we can change the types for merging in analysis\n",
        "df['pid']= df['pid'].astype(int)\n",
        "df['description_clean']= df['description_clean'].astype(str)"
      ],
      "execution_count": null,
      "outputs": []
    },
    {
      "cell_type": "code",
      "metadata": {
        "colab": {
          "base_uri": "https://localhost:8080/"
        },
        "id": "t51uXb9y--pK",
        "outputId": "01348b73-a17c-4c14-f085-7d66ea4f7a3f"
      },
      "source": [
        "# Link google drive\n",
        "from google.colab import drive\n",
        "drive.mount('drive')"
      ],
      "execution_count": null,
      "outputs": [
        {
          "output_type": "stream",
          "text": [
            "Drive already mounted at drive; to attempt to forcibly remount, call drive.mount(\"drive\", force_remount=True).\n"
          ],
          "name": "stdout"
        }
      ]
    },
    {
      "cell_type": "code",
      "metadata": {
        "id": "YMNvKKTv-_q6"
      },
      "source": [
        "# Save to google drive\n",
        "df.to_csv('cleaned_housing_description_data_v1.csv')\n",
        "!cp cleaned_housing_description_data_v1.csv \"drive/My Drive/\""
      ],
      "execution_count": null,
      "outputs": []
    },
    {
      "cell_type": "markdown",
      "metadata": {
        "id": "9c77NOj7VHuL"
      },
      "source": [
        "The description data is now cleaned! We will merge it together with the image data and the metadata cleaned df in the analysis notebook."
      ]
    }
  ]
}